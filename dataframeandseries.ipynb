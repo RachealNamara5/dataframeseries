{
 "cells": [
  {
   "cell_type": "markdown",
   "metadata": {},
   "source": [
    "# importing panda \n"
   ]
  },
  {
   "cell_type": "code",
   "execution_count": 8,
   "metadata": {},
   "outputs": [],
   "source": [
    "import pandas as pd"
   ]
  },
  {
   "cell_type": "code",
   "execution_count": 13,
   "metadata": {},
   "outputs": [
    {
     "name": "stdout",
     "output_type": "stream",
     "text": [
      "    S/N                      Name  Age  Height  Weight\n",
      "0     1            Adokorac Nancy   20  177.80      74\n",
      "1     2   Amutuhaire Faith Ahabwe   27  157.50      47\n",
      "2     3     KWAGALA JOANNA VICTOR   21  210.82      54\n",
      "3     4              mahoro cathy   23  187.96      30\n",
      "4     5  Mbabazi Hawa Bint Edrisa   19  175.25      59\n",
      "5     6       Nakanjako josephine   24  175.25      65\n",
      "6     7            Nanteza Dorcus   21  157.48      69\n",
      "7     8             Mbabazi Angel   19  167.64      57\n",
      "8     9            Namara Racheal   19  154.94      55\n",
      "9    10       Lwamulungi Sheillah   22  162.56      78\n",
      "10   11           Nakawuka Sandra   25  175.25      60\n",
      "11   12   Achola Gloria Fortunate   27  172.72      80\n",
      "12   13             Nagawa Esther   21  187.96      58\n",
      "13   14           wanjiku hananny   19  165.10      50\n",
      "14   15            babirye Sandra   21  175.25      50\n",
      "15   16          nakagga shanitah   21  175.25      50\n",
      "16   17    Wembabazi Vivian Ritah   20  160.02      49\n",
      "17   18   Nanziri Ritah Namayanja   23  162.56      70\n",
      "18   19            Nasejje Mariam   20  101.60      62\n",
      "19   20  Namukose Jolline Edriana   20  162.56      55\n",
      "20   21      Agatha Faith Anyango   27   93.98      55\n",
      "21   22              Kirabo Sarah   23  165.10      60\n",
      "22   23          Nansalire Anitah   21   63.50      45\n",
      "23   24             Nalugo gladys   19  101.60      70\n",
      "24   25            Namakula Allen   20  170.18      55\n",
      "25   26           Tukahirwa emily   22  175.26      67\n",
      "26   27            Shamirah Ahmed   21  137.16      67\n",
      "27   28          Ameso lmmaculate   23  165.10      64\n",
      "28   29                Ayoo Teddy   20  157.48      50\n",
      "29   30                Biira Mary   30  104.14      65\n",
      "30   31        Aloyo Brenda Ojera   23  170.18      52\n",
      "31   32        Ayebale Immaculate   24  162.56      50\n"
     ]
    }
   ],
   "source": [
    "#create a dataframe called df\n",
    "df=pd.read_excel(r'C:\\Users\\STUDENT\\Desktop\\WITU C3\\Year One\\Semister One\\Introduction to Data Science and Machine Learning\\data\\dataset.xlsx')\n",
    "print(df)"
   ]
  },
  {
   "cell_type": "code",
   "execution_count": null,
   "metadata": {},
   "outputs": [],
   "source": [
    "pip install openpyxl"
   ]
  },
  {
   "cell_type": "code",
   "execution_count": null,
   "metadata": {},
   "outputs": [],
   "source": [
    "pip install pandas as pd"
   ]
  },
  {
   "cell_type": "code",
   "execution_count": 5,
   "metadata": {},
   "outputs": [],
   "source": [
    "import pandas as pd"
   ]
  },
  {
   "cell_type": "code",
   "execution_count": 6,
   "metadata": {},
   "outputs": [
    {
     "name": "stdout",
     "output_type": "stream",
     "text": [
      "mean 22.03125\n"
     ]
    }
   ],
   "source": [
    "#mean of age of the data set above\n",
    "df=pd.read_excel(r'C:\\Users\\STUDENT\\Desktop\\WITU C3\\Year One\\Semister One\\Introduction to Data Science and Machine Learning\\data\\dataset.xlsx')\n",
    "\n",
    "print(\"mean\",df[\"Age\"].mean())"
   ]
  },
  {
   "cell_type": "code",
   "execution_count": 8,
   "metadata": {},
   "outputs": [
    {
     "name": "stdout",
     "output_type": "stream",
     "text": [
      "var <bound method Series.var of 0     20\n",
      "1     27\n",
      "2     21\n",
      "3     23\n",
      "4     19\n",
      "5     24\n",
      "6     21\n",
      "7     19\n",
      "8     19\n",
      "9     22\n",
      "10    25\n",
      "11    27\n",
      "12    21\n",
      "13    19\n",
      "14    21\n",
      "15    21\n",
      "16    20\n",
      "17    23\n",
      "18    20\n",
      "19    20\n",
      "20    27\n",
      "21    23\n",
      "22    21\n",
      "23    19\n",
      "24    20\n",
      "25    22\n",
      "26    21\n",
      "27    23\n",
      "28    20\n",
      "29    30\n",
      "30    23\n",
      "31    24\n",
      "Name: Age, dtype: int64>\n"
     ]
    }
   ],
   "source": [
    "#variance of age of age of the above data\n",
    "df=pd.read_excel(r'C:\\Users\\STUDENT\\Desktop\\WITU C3\\Year One\\Semister One\\Introduction to Data Science and Machine Learning\\data\\dataset.xlsx')\n",
    "print(\"var\",df[\"Age\"].var)"
   ]
  },
  {
   "cell_type": "code",
   "execution_count": 9,
   "metadata": {},
   "outputs": [
    {
     "name": "stdout",
     "output_type": "stream",
     "text": [
      "std <bound method Series.std of 0     20\n",
      "1     27\n",
      "2     21\n",
      "3     23\n",
      "4     19\n",
      "5     24\n",
      "6     21\n",
      "7     19\n",
      "8     19\n",
      "9     22\n",
      "10    25\n",
      "11    27\n",
      "12    21\n",
      "13    19\n",
      "14    21\n",
      "15    21\n",
      "16    20\n",
      "17    23\n",
      "18    20\n",
      "19    20\n",
      "20    27\n",
      "21    23\n",
      "22    21\n",
      "23    19\n",
      "24    20\n",
      "25    22\n",
      "26    21\n",
      "27    23\n",
      "28    20\n",
      "29    30\n",
      "30    23\n",
      "31    24\n",
      "Name: Age, dtype: int64>\n"
     ]
    }
   ],
   "source": [
    "# standard deviation of age of the above data set\n",
    "df=pd.read_excel(r'C:\\Users\\STUDENT\\Desktop\\WITU C3\\Year One\\Semister One\\Introduction to Data Science and Machine Learning\\data\\dataset.xlsx')\n",
    "print(\"std\",df[\"Age\"].std)"
   ]
  },
  {
   "cell_type": "markdown",
   "metadata": {},
   "source": [
    "# Height"
   ]
  },
  {
   "cell_type": "code",
   "execution_count": 10,
   "metadata": {},
   "outputs": [
    {
     "name": "stdout",
     "output_type": "stream",
     "text": [
      "mean <bound method Series.mean of 0     177.80\n",
      "1     157.50\n",
      "2     210.82\n",
      "3     187.96\n",
      "4     175.25\n",
      "5     175.25\n",
      "6     157.48\n",
      "7     167.64\n",
      "8     154.94\n",
      "9     162.56\n",
      "10    175.25\n",
      "11    172.72\n",
      "12    187.96\n",
      "13    165.10\n",
      "14    175.25\n",
      "15    175.25\n",
      "16    160.02\n",
      "17    162.56\n",
      "18    101.60\n",
      "19    162.56\n",
      "20     93.98\n",
      "21    165.10\n",
      "22     63.50\n",
      "23    101.60\n",
      "24    170.18\n",
      "25    175.26\n",
      "26    137.16\n",
      "27    165.10\n",
      "28    157.48\n",
      "29    104.14\n",
      "30    170.18\n",
      "31    162.56\n",
      "Name: Height, dtype: float64>\n"
     ]
    }
   ],
   "source": [
    "# mean of height of the data set above\n",
    "df=pd.read_excel(r'C:\\Users\\STUDENT\\Desktop\\WITU C3\\Year One\\Semister One\\Introduction to Data Science and Machine Learning\\data\\dataset.xlsx')\n",
    "print(\"mean\",df[\"Height\"].mean)"
   ]
  },
  {
   "cell_type": "code",
   "execution_count": 11,
   "metadata": {},
   "outputs": [
    {
     "name": "stdout",
     "output_type": "stream",
     "text": [
      "var <bound method Series.var of 0     177.80\n",
      "1     157.50\n",
      "2     210.82\n",
      "3     187.96\n",
      "4     175.25\n",
      "5     175.25\n",
      "6     157.48\n",
      "7     167.64\n",
      "8     154.94\n",
      "9     162.56\n",
      "10    175.25\n",
      "11    172.72\n",
      "12    187.96\n",
      "13    165.10\n",
      "14    175.25\n",
      "15    175.25\n",
      "16    160.02\n",
      "17    162.56\n",
      "18    101.60\n",
      "19    162.56\n",
      "20     93.98\n",
      "21    165.10\n",
      "22     63.50\n",
      "23    101.60\n",
      "24    170.18\n",
      "25    175.26\n",
      "26    137.16\n",
      "27    165.10\n",
      "28    157.48\n",
      "29    104.14\n",
      "30    170.18\n",
      "31    162.56\n",
      "Name: Height, dtype: float64>\n"
     ]
    }
   ],
   "source": [
    "#variance of height of dataset above\n",
    "df=pd.read_excel(r'C:\\Users\\STUDENT\\Desktop\\WITU C3\\Year One\\Semister One\\Introduction to Data Science and Machine Learning\\data\\dataset.xlsx')\n",
    "print(\"var\",df[\"Height\"].var)"
   ]
  },
  {
   "cell_type": "code",
   "execution_count": 12,
   "metadata": {},
   "outputs": [
    {
     "name": "stdout",
     "output_type": "stream",
     "text": [
      "std <bound method Series.std of 0     177.80\n",
      "1     157.50\n",
      "2     210.82\n",
      "3     187.96\n",
      "4     175.25\n",
      "5     175.25\n",
      "6     157.48\n",
      "7     167.64\n",
      "8     154.94\n",
      "9     162.56\n",
      "10    175.25\n",
      "11    172.72\n",
      "12    187.96\n",
      "13    165.10\n",
      "14    175.25\n",
      "15    175.25\n",
      "16    160.02\n",
      "17    162.56\n",
      "18    101.60\n",
      "19    162.56\n",
      "20     93.98\n",
      "21    165.10\n",
      "22     63.50\n",
      "23    101.60\n",
      "24    170.18\n",
      "25    175.26\n",
      "26    137.16\n",
      "27    165.10\n",
      "28    157.48\n",
      "29    104.14\n",
      "30    170.18\n",
      "31    162.56\n",
      "Name: Height, dtype: float64>\n"
     ]
    }
   ],
   "source": [
    "# stanard deviation of height of dataset above\n",
    "\n",
    "df=pd.read_excel(r'C:\\Users\\STUDENT\\Desktop\\WITU C3\\Year One\\Semister One\\Introduction to Data Science and Machine Learning\\data\\dataset.xlsx')\n",
    "print(\"std\",df[\"Height\"].std)"
   ]
  },
  {
   "cell_type": "markdown",
   "metadata": {},
   "source": [
    "# Weight\n"
   ]
  },
  {
   "cell_type": "code",
   "execution_count": 13,
   "metadata": {},
   "outputs": [
    {
     "name": "stdout",
     "output_type": "stream",
     "text": [
      "mean <bound method Series.mean of 0     74\n",
      "1     47\n",
      "2     54\n",
      "3     30\n",
      "4     59\n",
      "5     65\n",
      "6     69\n",
      "7     57\n",
      "8     55\n",
      "9     78\n",
      "10    60\n",
      "11    80\n",
      "12    58\n",
      "13    50\n",
      "14    50\n",
      "15    50\n",
      "16    49\n",
      "17    70\n",
      "18    62\n",
      "19    55\n",
      "20    55\n",
      "21    60\n",
      "22    45\n",
      "23    70\n",
      "24    55\n",
      "25    67\n",
      "26    67\n",
      "27    64\n",
      "28    50\n",
      "29    65\n",
      "30    52\n",
      "31    50\n",
      "Name: Weight, dtype: int64>\n"
     ]
    }
   ],
   "source": [
    "df=pd.read_excel(r'C:\\Users\\STUDENT\\Desktop\\WITU C3\\Year One\\Semister One\\Introduction to Data Science and Machine Learning\\data\\dataset.xlsx')\n",
    "print(\"mean\",df[\"Weight\"].mean)\n",
    "# mean of weight of above data set"
   ]
  },
  {
   "cell_type": "code",
   "execution_count": 14,
   "metadata": {},
   "outputs": [
    {
     "name": "stdout",
     "output_type": "stream",
     "text": [
      "var <bound method Series.mean of 0     74\n",
      "1     47\n",
      "2     54\n",
      "3     30\n",
      "4     59\n",
      "5     65\n",
      "6     69\n",
      "7     57\n",
      "8     55\n",
      "9     78\n",
      "10    60\n",
      "11    80\n",
      "12    58\n",
      "13    50\n",
      "14    50\n",
      "15    50\n",
      "16    49\n",
      "17    70\n",
      "18    62\n",
      "19    55\n",
      "20    55\n",
      "21    60\n",
      "22    45\n",
      "23    70\n",
      "24    55\n",
      "25    67\n",
      "26    67\n",
      "27    64\n",
      "28    50\n",
      "29    65\n",
      "30    52\n",
      "31    50\n",
      "Name: Weight, dtype: int64>\n"
     ]
    }
   ],
   "source": [
    "# variance of weight of above dataset\n",
    "df=pd.read_excel(r'C:\\Users\\STUDENT\\Desktop\\WITU C3\\Year One\\Semister One\\Introduction to Data Science and Machine Learning\\data\\dataset.xlsx')\n",
    "print(\"var\",df[\"Weight\"].mean)"
   ]
  },
  {
   "cell_type": "code",
   "execution_count": 15,
   "metadata": {},
   "outputs": [
    {
     "name": "stdout",
     "output_type": "stream",
     "text": [
      "std <bound method Series.std of 0     74\n",
      "1     47\n",
      "2     54\n",
      "3     30\n",
      "4     59\n",
      "5     65\n",
      "6     69\n",
      "7     57\n",
      "8     55\n",
      "9     78\n",
      "10    60\n",
      "11    80\n",
      "12    58\n",
      "13    50\n",
      "14    50\n",
      "15    50\n",
      "16    49\n",
      "17    70\n",
      "18    62\n",
      "19    55\n",
      "20    55\n",
      "21    60\n",
      "22    45\n",
      "23    70\n",
      "24    55\n",
      "25    67\n",
      "26    67\n",
      "27    64\n",
      "28    50\n",
      "29    65\n",
      "30    52\n",
      "31    50\n",
      "Name: Weight, dtype: int64>\n"
     ]
    }
   ],
   "source": [
    "# standard deviation of data set above of weight\n",
    "df=pd.read_excel(r'C:\\Users\\STUDENT\\Desktop\\WITU C3\\Year One\\Semister One\\Introduction to Data Science and Machine Learning\\data\\dataset.xlsx')\n",
    "print(\"std\",df[\"Weight\"].std)"
   ]
  }
 ],
 "metadata": {
  "kernelspec": {
   "display_name": "Python 3",
   "language": "python",
   "name": "python3"
  },
  "language_info": {
   "codemirror_mode": {
    "name": "ipython",
    "version": 3
   },
   "file_extension": ".py",
   "mimetype": "text/x-python",
   "name": "python",
   "nbconvert_exporter": "python",
   "pygments_lexer": "ipython3",
   "version": "3.11.5"
  },
  "orig_nbformat": 4
 },
 "nbformat": 4,
 "nbformat_minor": 2
}
